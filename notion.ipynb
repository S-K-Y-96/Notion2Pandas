{
 "cells": [
  {
   "cell_type": "markdown",
   "metadata": {},
   "source": [
    "# Burp Config"
   ]
  },
  {
   "cell_type": "code",
   "execution_count": 38,
   "metadata": {},
   "outputs": [],
   "source": [
    "import os\n",
    "from pathlib import Path\n",
    "import ssl\n",
    "import certifi\n",
    "# import urllib3\n",
    "\n",
    "class BurpConfig:\n",
    "\n",
    "    def __init__(self, burp_cer, proxy=\"http://127.0.0.1:8080\", config_path=\"config/burp\"):\n",
    "        self.config_path = Path(config_path).absolute()\n",
    "        self.config_path.mkdir(parents=True, exist_ok=True)\n",
    "        self.certificate = self.create_custom_ca_bundle(burp_cer)\n",
    "        self.status = \"off\"\n",
    "        self.proxy = proxy\n",
    "        \n",
    "        # restoring point snapshot\n",
    "        self.original_environ = dict(os.environ)\n",
    "        self.original_ssl_context_function = ssl._create_default_https_context\n",
    "    \n",
    "\n",
    "    def on(self):\n",
    "        if self.status == \"off\":\n",
    "            self.set_proxy_env(self.proxy)\n",
    "            self.set_ssl_env()\n",
    "            self.patch_ssl_context()\n",
    "        self.status = \"on\"\n",
    "\n",
    "    def off(self):\n",
    "        if self.status == \"on\":\n",
    "            self.restore_env()\n",
    "            self.unpatch_ssl_context()\n",
    "        self.status = \"off\"\n",
    "\n",
    "    def set_proxy_env(self, proxy):\n",
    "        os.environ[\"ALL_PROXY\"] = proxy\n",
    "        os.environ[\"all_proxy\"] = proxy\n",
    "        os.environ[\"HTTP_PROXY\"] = proxy\n",
    "        os.environ[\"http_proxy\"] = proxy\n",
    "        os.environ[\"HTTPS_PROXY\"] = proxy\n",
    "        os.environ[\"https_proxy\"] = proxy\n",
    "\n",
    "    # Set custom CA bundle for SSL verification\n",
    "    def set_ssl_env(self):\n",
    "        os.environ['SSL_CERT_FILE'] = self.certificate\n",
    "        os.environ['REQUESTS_CA_BUNDLE'] = self.certificate\n",
    "        os.environ['CURL_CA_BUNDLE'] = self.certificate\n",
    "\n",
    "    def restore_env(self):\n",
    "        os.environ.clear()\n",
    "        os.environ.update(self.original_environ)\n",
    "    \n",
    "    def patch_ssl_context(self):\n",
    "        # Create a custom SSL context\n",
    "        custom_context = ssl.create_default_context(cafile=self.certificate)\n",
    "        # Replace the default SSL context\n",
    "        ssl._create_default_https_context = lambda: custom_context\n",
    "    \n",
    "    def unpatch_ssl_context(self):\n",
    "        ssl._create_default_https_context = self.original_ssl_context_function\n",
    "\n",
    "\n",
    "    def create_custom_ca_bundle(self, burp_cer):\n",
    "        burp_pem = str((self.config_path/\"burp_certificate.pem\"))\n",
    "        all_pem  = str((self.config_path/\"custom_ca_bundle.pem\"))\n",
    "        \n",
    "        # Convert Burp certificate to PEM format\n",
    "        os.system(f\"openssl x509 -inform der -in {burp_cer} -out {burp_pem}\")\n",
    "        \n",
    "        # Combine Burp certificate with system CA certificates\n",
    "        with open(all_pem, 'wb') as outfile:\n",
    "            with open(burp_pem, 'rb') as infile:\n",
    "                outfile.write(infile.read())\n",
    "            with open(certifi.where(), 'rb') as infile:\n",
    "                outfile.write(infile.read())\n",
    "        # $ cat {burp_pem} /etc/ssl/certs/ca-certificates.crt > {all_pem}\n",
    "        \n",
    "        return all_pem\n",
    "\n",
    "\n",
    "    def __enter__(self):\n",
    "        self.on()\n",
    "        return self\n",
    "\n",
    "    def __exit__(self, exc_type, exc_val, exc_tb):\n",
    "        self.off()\n",
    "\n",
    "    # def patch_urllib3(self):\n",
    "    #     urllib3.util.ssl_.DEFAULT_CERTS = self.all_pem\n",
    "\n",
    "    # def unpatch_urllib3(self):\n",
    "    #     urllib3.util.ssl_.DEFAULT_CERTS = certifi.where()"
   ]
  },
  {
   "cell_type": "code",
   "execution_count": 39,
   "metadata": {},
   "outputs": [],
   "source": [
    "# with BurpConfig(\"path/to/burp.cer\") as burp:\n",
    "#     # do\n",
    "\n",
    "# burp = BurpConfig(\"path/to/burp.cer\")\n",
    "# burp.on()\n",
    "# do\n",
    "\n",
    "# burp.off()\n",
    "# "
   ]
  },
  {
   "cell_type": "code",
   "execution_count": 40,
   "metadata": {},
   "outputs": [
    {
     "data": {
      "text/plain": [
       "'on'"
      ]
     },
     "execution_count": 40,
     "metadata": {},
     "output_type": "execute_result"
    }
   ],
   "source": [
    "burp = BurpConfig(\"/home/ali/Storage/Network/Tools/BurpSuiteCommunity/burp.cer\")\n",
    "burp.on()\n",
    "# burp.off()\n",
    "burp.status"
   ]
  },
  {
   "cell_type": "markdown",
   "metadata": {},
   "source": [
    "# utils"
   ]
  },
  {
   "cell_type": "code",
   "execution_count": 19,
   "metadata": {},
   "outputs": [],
   "source": [
    "from pprint import pprint"
   ]
  },
  {
   "cell_type": "code",
   "execution_count": 4,
   "metadata": {},
   "outputs": [],
   "source": [
    "def show(obj):\n",
    "    print(\n",
    "        *[x for x in dir(obj) if not x.startswith(\"_\")],\n",
    "        sep=\"\\n\"\n",
    "    )"
   ]
  },
  {
   "cell_type": "code",
   "execution_count": null,
   "metadata": {},
   "outputs": [],
   "source": [
    "def extract_columns(db):\n",
    "    return list(db[0][\"properties\"].keys())"
   ]
  },
  {
   "cell_type": "code",
   "execution_count": null,
   "metadata": {},
   "outputs": [],
   "source": [
    "def extract_type(obj):\n",
    "    obj_type = check_data_type(obj)\n",
    "    \n",
    "    if check_data_type(obj) == \"list\":\n",
    "        return extract_columns(obj)\n",
    "    if \"type\" in obj.keys():\n",
    "        return obj[\"type\"]"
   ]
  },
  {
   "cell_type": "code",
   "execution_count": null,
   "metadata": {},
   "outputs": [],
   "source": [
    "def check_data_type(obj):\n",
    "    if isinstance(obj, list):\n",
    "        return \"list\"\n",
    "    elif isinstance(obj, dict):\n",
    "        return \"dict\"\n",
    "    elif isinstance(obj, (int, float)):\n",
    "        return \"number\"\n",
    "    elif isinstance(obj, str):\n",
    "        return \"string\"\n",
    "    else:\n",
    "        return \"unknown\""
   ]
  },
  {
   "cell_type": "code",
   "execution_count": null,
   "metadata": {},
   "outputs": [],
   "source": [
    "def extract_type(obj):\n",
    "    obj_type = check_data_type(obj)\n",
    "    match obj_type:\n",
    "        case \"list\":\n",
    "            return None\n",
    "        case \"dict\":\n",
    "            return None\n",
    "        case \"number\":\n",
    "            return None\n",
    "        case \"string\":\n",
    "            return None\n",
    "        case _:\n",
    "            return None\n",
    "    # if check_data_type(obj) == \"list\":\n",
    "    #     return extract_columns(obj)\n",
    "    # if \"type\" in obj.keys():\n",
    "    #     return obj[\"type\"]"
   ]
  },
  {
   "cell_type": "code",
   "execution_count": 36,
   "metadata": {},
   "outputs": [],
   "source": [
    "def http_error(status):\n",
    "    match status:\n",
    "        case 400:\n",
    "            return \"Bad request\"\n",
    "        case 404:\n",
    "            return \"Not found\"\n",
    "        case 418:\n",
    "            return \"I'm a teapot\"\n",
    "\n",
    "        # If an exact match is not confirmed, this last case will be used if provided\n",
    "        case _:\n",
    "            return \"Something's wrong with the internet\"\n",
    "        \n"
   ]
  },
  {
   "cell_type": "code",
   "execution_count": 37,
   "metadata": {},
   "outputs": [
    {
     "data": {
      "text/plain": [
       "'Bad request'"
      ]
     },
     "execution_count": 37,
     "metadata": {},
     "output_type": "execute_result"
    }
   ],
   "source": [
    "http_error(400)"
   ]
  },
  {
   "cell_type": "markdown",
   "metadata": {},
   "source": [
    "# Notion Type Handle"
   ]
  },
  {
   "cell_type": "code",
   "execution_count": null,
   "metadata": {},
   "outputs": [],
   "source": [
    "import json\n",
    "import pandas as pd\n",
    "\n",
    "def notion_to_pandas(notion_results):\n",
    "    with open('./result.json', 'w', encoding='utf8') as f:\n",
    "        json.dump(notion_results, f, ensure_ascii=False)\n",
    "\n",
    "    df = pd.read_json('./result.json')\n",
    "    df.properties.to_json('./result.json', orient='records', force_ascii=False)\n",
    "    df = pd.read_json('./result.json')\n",
    "\n",
    "    os.remove('./result.json')\n",
    "    return df"
   ]
  },
  {
   "cell_type": "code",
   "execution_count": null,
   "metadata": {},
   "outputs": [],
   "source": [
    "class NotionTypeHandler:\n",
    "\n",
    "    @staticmethod\n",
    "    def title(series):\n",
    "        return series.apply(lambda x: x[\"title\"][0]['text']['content'] if x[\"title\"] else \"Untitled\")\n",
    "    @staticmethod\n",
    "    def checkbox(series):\n",
    "        return series.apply(lambda x: x[\"checkbox\"])\n",
    "    @staticmethod\n",
    "    def number(series):\n",
    "        return series.apply(lambda x: x[\"number\"])\n",
    "    def formula(series):\n",
    "        TYPE = series[0][\"formula\"]['type']\n",
    "        return series.apply(lambda x: x[\"formula\"][TYPE])\n",
    "    @staticmethod\n",
    "    def status(series):\n",
    "        return series.apply(lambda x: x[\"status\"]['name'])\n",
    "    @staticmethod\n",
    "    def date(series):\n",
    "        return series.apply(lambda x: x[\"date\"]['start'][:10] if x[\"date\"] else \"\")\n",
    "    @staticmethod\n",
    "    def select(series):\n",
    "        return series.apply(lambda x: x[\"select\"][\"name\"] if x[\"select\"] else \"\")\n",
    "    @staticmethod\n",
    "    def multi_select(series):\n",
    "        def join_multi_select(x):\n",
    "            res = \"\"\n",
    "            for item in x[\"multi_select\"]:\n",
    "                res += item[\"name\"] + \", \"\n",
    "            return res[:-2]\n",
    "        return series.apply(join_multi_select)\n",
    "    @staticmethod\n",
    "    def rich_text(series):\n",
    "        def join_plain_text(x):\n",
    "            res = \"\"\n",
    "            for item in x[\"rich_text\"]:\n",
    "                res += item[\"plain_text\"]\n",
    "            return res\n",
    "        return series.apply(join_plain_text)\n",
    "    @staticmethod\n",
    "    def people(series):\n",
    "        def join_people(x):\n",
    "            res = \"\"\n",
    "            for item in x[\"people\"]:\n",
    "                res += item[\"id\"][:8] + \"..., \"\n",
    "            return res[:-2]\n",
    "        return series.apply(join_people)\n",
    "\n",
    "    @staticmethod\n",
    "    def convert_series(series):\n",
    "        TYPE = series[0]['type']\n",
    "        match TYPE:\n",
    "            case \"title\":\n",
    "                series = NotionTypeHandler.title(series)\n",
    "            case \"checkbox\":  # | \"number\":\n",
    "                series = NotionTypeHandler.checkbox(series)\n",
    "            case \"number\":\n",
    "                series = NotionTypeHandler.number(series)\n",
    "            case \"formula\":\n",
    "                series = NotionTypeHandler.formula(series)\n",
    "            case \"date\":\n",
    "                series = NotionTypeHandler.date(series)\n",
    "            case \"status\":\n",
    "                series = NotionTypeHandler.status(series)\n",
    "            case \"select\":\n",
    "                series = NotionTypeHandler.select(series)        \n",
    "            case \"multi_select\":\n",
    "                series = NotionTypeHandler.multi_select(series)\n",
    "            case \"rich_text\":\n",
    "                series = NotionTypeHandler.rich_text(series)\n",
    "            case \"people\":\n",
    "                series = NotionTypeHandler.people(series)\n",
    "            case _:\n",
    "                return None\n",
    "        return series\n",
    "\n",
    "    @staticmethod\n",
    "    def convert_dataframe(df, column_list=None):\n",
    "        if not column_list:\n",
    "            column_list = df.columns\n",
    "        new_columns = []\n",
    "        for column in column_list:\n",
    "            series = df[column]\n",
    "            new_series = NotionTypeHandler.convert_series(series)\n",
    "            if isinstance(new_series, pd.Series):\n",
    "                new_columns.append(new_series)\n",
    "                    \n",
    "        new_df = pd.concat(new_columns, axis=1)\n",
    "        return new_df"
   ]
  },
  {
   "cell_type": "code",
   "execution_count": null,
   "metadata": {},
   "outputs": [],
   "source": [
    "# df = notion_to_pandas(db)\n",
    "# df = NotionTypeHandler.convert_dataframe(df)\n",
    "# df.to_csv(path, index=False)\n",
    "# df"
   ]
  },
  {
   "cell_type": "markdown",
   "metadata": {},
   "source": [
    "# Notion API"
   ]
  },
  {
   "cell_type": "code",
   "execution_count": 224,
   "metadata": {},
   "outputs": [],
   "source": [
    "from notion_client import Client"
   ]
  },
  {
   "cell_type": "code",
   "execution_count": 225,
   "metadata": {},
   "outputs": [],
   "source": [
    "secret = \"secret_6DlTuXjTyvD0b4Zb2xNHCdnKsQp4JSOD8Fc1D9FMU9F\"\n",
    "notion = Client(auth=secret)"
   ]
  },
  {
   "cell_type": "code",
   "execution_count": null,
   "metadata": {},
   "outputs": [],
   "source": [
    "response = notion.databases.query(database_id=\"4698ca12d56f43b6b95ebb528b2a0c1d\")"
   ]
  },
  {
   "cell_type": "code",
   "execution_count": null,
   "metadata": {},
   "outputs": [],
   "source": [
    "pprint(response)"
   ]
  },
  {
   "cell_type": "code",
   "execution_count": 8,
   "metadata": {},
   "outputs": [
    {
     "name": "stdout",
     "output_type": "stream",
     "text": [
      "blocks\n",
      "client\n",
      "close\n",
      "comments\n",
      "databases\n",
      "logger\n",
      "options\n",
      "pages\n",
      "request\n",
      "search\n",
      "users\n"
     ]
    }
   ],
   "source": [
    "show(notion)"
   ]
  },
  {
   "cell_type": "code",
   "execution_count": 9,
   "metadata": {},
   "outputs": [],
   "source": [
    "# help(notion.search)"
   ]
  },
  {
   "cell_type": "code",
   "execution_count": 17,
   "metadata": {},
   "outputs": [],
   "source": [
    "# notion.search()"
   ]
  },
  {
   "cell_type": "code",
   "execution_count": 18,
   "metadata": {},
   "outputs": [],
   "source": [
    "# notion.search(query=\"Records\")"
   ]
  },
  {
   "cell_type": "code",
   "execution_count": 16,
   "metadata": {},
   "outputs": [
    {
     "name": "stdout",
     "output_type": "stream",
     "text": [
      "create\n",
      "list\n",
      "parent\n",
      "query\n",
      "retrieve\n",
      "update\n"
     ]
    }
   ],
   "source": [
    "show(notion.databases)"
   ]
  },
  {
   "cell_type": "code",
   "execution_count": 89,
   "metadata": {},
   "outputs": [],
   "source": [
    "database_id = {\n",
    "    \"Projects\": \"9a18b46bef9e4a18ad52a399021b0734\",\n",
    "    \"Records\": \"b138b3e32eb04580a1e8b0ea4f2b817d\",\n",
    "    \"Vocabularies\": \"57cd397ea56040cd83da5c877000ffb5\",\n",
    "    \"test\": \"4698ca12d56f43b6b95ebb528b2a0c1d\",\n",
    "}"
   ]
  },
  {
   "cell_type": "code",
   "execution_count": 44,
   "metadata": {},
   "outputs": [],
   "source": [
    "databases = {}\n",
    "for title, ID in database_id.items():\n",
    "    databases[title] = notion.databases.query(database_id=ID)[\"results\"]"
   ]
  },
  {
   "cell_type": "code",
   "execution_count": null,
   "metadata": {},
   "outputs": [
    {
     "data": {
      "text/plain": [
       "3"
      ]
     },
     "metadata": {},
     "output_type": "display_data"
    }
   ],
   "source": [
    "len(databases[\"Projects\"])  # rows"
   ]
  },
  {
   "cell_type": "code",
   "execution_count": 45,
   "metadata": {},
   "outputs": [
    {
     "name": "stdout",
     "output_type": "stream",
     "text": [
      "[{'archived': False,\n",
      "  'cover': None,\n",
      "  'created_by': {'id': 'ab471901-fb0c-4c01-9ce9-f6d362cc5563',\n",
      "                 'object': 'user'},\n",
      "  'created_time': '2024-07-06T19:25:00.000Z',\n",
      "  'icon': None,\n",
      "  'id': 'c2994820-ab0d-4016-b8b0-78de4675d97b',\n",
      "  'in_trash': False,\n",
      "  'last_edited_by': {'id': 'ab471901-fb0c-4c01-9ce9-f6d362cc5563',\n",
      "                     'object': 'user'},\n",
      "  'last_edited_time': '2024-07-06T19:25:00.000Z',\n",
      "  'object': 'page',\n",
      "  'parent': {'database_id': '9a18b46b-ef9e-4a18-ad52-a399021b0734',\n",
      "             'type': 'database_id'},\n",
      "  'properties': {'Done': {'id': 'Yop%40',\n",
      "                          'rollup': {'function': 'checked',\n",
      "                                     'number': None,\n",
      "                                     'type': 'number'},\n",
      "                          'type': 'rollup'},\n",
      "                 'Name': {'id': 'title', 'title': [], 'type': 'title'},\n",
      "                 'Number of Words': {'id': 'uH%7D%5D',\n",
      "                                     'number': None,\n",
      "                                     'type': 'number'},\n",
      "                 'Progress': {'id': 'Mtr_',\n",
      "                              'rollup': {'function': 'checked',\n",
      "                                         'number': None,\n",
      "                                         'type': 'number'},\n",
      "                              'type': 'rollup'},\n",
      "                 'Record': {'button': {}, 'id': '%5BqHq', 'type': 'button'},\n",
      "                 'Sustainability': {'formula': {'number': 0, 'type': 'number'},\n",
      "                                    'id': 'W%3A%3Di',\n",
      "                                    'type': 'formula'},\n",
      "                 'Tags': {'id': 'ZhtY',\n",
      "                          'multi_select': [],\n",
      "                          'type': 'multi_select'},\n",
      "                 'Upcoming': {'id': 'DhP%40',\n",
      "                              'rollup': {'function': 'checked',\n",
      "                                         'number': None,\n",
      "                                         'type': 'number'},\n",
      "                              'type': 'rollup'},\n",
      "                 'Vocabulary': {'has_more': False,\n",
      "                                'id': '%60coz',\n",
      "                                'relation': [],\n",
      "                                'type': 'relation'}},\n",
      "  'public_url': None,\n",
      "  'url': 'https://www.notion.so/c2994820ab0d4016b8b078de4675d97b'},\n",
      " {'archived': False,\n",
      "  'cover': None,\n",
      "  'created_by': {'id': 'ab471901-fb0c-4c01-9ce9-f6d362cc5563',\n",
      "                 'object': 'user'},\n",
      "  'created_time': '2024-07-06T19:25:00.000Z',\n",
      "  'icon': None,\n",
      "  'id': '8420e9f0-34c0-4a5d-b8e3-b0ceb9e3bdf3',\n",
      "  'in_trash': False,\n",
      "  'last_edited_by': {'id': 'ab471901-fb0c-4c01-9ce9-f6d362cc5563',\n",
      "                     'object': 'user'},\n",
      "  'last_edited_time': '2024-07-09T18:47:00.000Z',\n",
      "  'object': 'page',\n",
      "  'parent': {'database_id': '9a18b46b-ef9e-4a18-ad52-a399021b0734',\n",
      "             'type': 'database_id'},\n",
      "  'properties': {'Done': {'id': 'Yop%40',\n",
      "                          'rollup': {'function': 'checked',\n",
      "                                     'number': 0,\n",
      "                                     'type': 'number'},\n",
      "                          'type': 'rollup'},\n",
      "                 'Name': {'id': 'title',\n",
      "                          'title': [{'annotations': {'bold': False,\n",
      "                                                     'code': False,\n",
      "                                                     'color': 'default',\n",
      "                                                     'italic': False,\n",
      "                                                     'strikethrough': False,\n",
      "                                                     'underline': False},\n",
      "                                     'href': None,\n",
      "                                     'plain_text': '1100 Words',\n",
      "                                     'text': {'content': '1100 Words',\n",
      "                                              'link': None},\n",
      "                                     'type': 'text'}],\n",
      "                          'type': 'title'},\n",
      "                 'Number of Words': {'id': 'uH%7D%5D',\n",
      "                                     'number': 1100,\n",
      "                                     'type': 'number'},\n",
      "                 'Progress': {'id': 'Mtr_',\n",
      "                              'rollup': {'function': 'checked',\n",
      "                                         'number': 0,\n",
      "                                         'type': 'number'},\n",
      "                              'type': 'rollup'},\n",
      "                 'Record': {'button': {}, 'id': '%5BqHq', 'type': 'button'},\n",
      "                 'Sustainability': {'formula': {'number': 0, 'type': 'number'},\n",
      "                                    'id': 'W%3A%3Di',\n",
      "                                    'type': 'formula'},\n",
      "                 'Tags': {'id': 'ZhtY',\n",
      "                          'multi_select': [],\n",
      "                          'type': 'multi_select'},\n",
      "                 'Upcoming': {'id': 'DhP%40',\n",
      "                              'rollup': {'function': 'checked',\n",
      "                                         'number': 0,\n",
      "                                         'type': 'number'},\n",
      "                              'type': 'rollup'},\n",
      "                 'Vocabulary': {'has_more': False,\n",
      "                                'id': '%60coz',\n",
      "                                'relation': [],\n",
      "                                'type': 'relation'}},\n",
      "  'public_url': None,\n",
      "  'url': 'https://www.notion.so/1100-Words-8420e9f034c04a5db8e3b0ceb9e3bdf3'},\n",
      " {'archived': False,\n",
      "  'cover': None,\n",
      "  'created_by': {'id': 'ab471901-fb0c-4c01-9ce9-f6d362cc5563',\n",
      "                 'object': 'user'},\n",
      "  'created_time': '2024-07-06T19:25:00.000Z',\n",
      "  'icon': None,\n",
      "  'id': 'a7f6ebd2-770a-42fd-a5e0-7cbef53addec',\n",
      "  'in_trash': False,\n",
      "  'last_edited_by': {'id': 'ab471901-fb0c-4c01-9ce9-f6d362cc5563',\n",
      "                     'object': 'user'},\n",
      "  'last_edited_time': '2024-07-06T19:25:00.000Z',\n",
      "  'object': 'page',\n",
      "  'parent': {'database_id': '9a18b46b-ef9e-4a18-ad52-a399021b0734',\n",
      "             'type': 'database_id'},\n",
      "  'properties': {'Done': {'id': 'Yop%40',\n",
      "                          'rollup': {'function': 'checked',\n",
      "                                     'number': None,\n",
      "                                     'type': 'number'},\n",
      "                          'type': 'rollup'},\n",
      "                 'Name': {'id': 'title', 'title': [], 'type': 'title'},\n",
      "                 'Number of Words': {'id': 'uH%7D%5D',\n",
      "                                     'number': None,\n",
      "                                     'type': 'number'},\n",
      "                 'Progress': {'id': 'Mtr_',\n",
      "                              'rollup': {'function': 'checked',\n",
      "                                         'number': None,\n",
      "                                         'type': 'number'},\n",
      "                              'type': 'rollup'},\n",
      "                 'Record': {'button': {}, 'id': '%5BqHq', 'type': 'button'},\n",
      "                 'Sustainability': {'formula': {'number': 0, 'type': 'number'},\n",
      "                                    'id': 'W%3A%3Di',\n",
      "                                    'type': 'formula'},\n",
      "                 'Tags': {'id': 'ZhtY',\n",
      "                          'multi_select': [],\n",
      "                          'type': 'multi_select'},\n",
      "                 'Upcoming': {'id': 'DhP%40',\n",
      "                              'rollup': {'function': 'checked',\n",
      "                                         'number': None,\n",
      "                                         'type': 'number'},\n",
      "                              'type': 'rollup'},\n",
      "                 'Vocabulary': {'has_more': False,\n",
      "                                'id': '%60coz',\n",
      "                                'relation': [],\n",
      "                                'type': 'relation'}},\n",
      "  'public_url': None,\n",
      "  'url': 'https://www.notion.so/a7f6ebd2770a42fda5e07cbef53addec'}]\n"
     ]
    }
   ],
   "source": [
    "pprint(databases[\"Projects\"])"
   ]
  },
  {
   "cell_type": "code",
   "execution_count": 185,
   "metadata": {},
   "outputs": [],
   "source": [
    "databases[\"test\"] = notion.databases.query(database_id=\"4698ca12d56f43b6b95ebb528b2a0c1d\")[\"results\"]"
   ]
  },
  {
   "cell_type": "code",
   "execution_count": null,
   "metadata": {},
   "outputs": [],
   "source": [
    "import os\n",
    "import json\n",
    "import pandas as pd\n",
    "\n",
    "from notion_client import Client"
   ]
  },
  {
   "cell_type": "code",
   "execution_count": 186,
   "metadata": {},
   "outputs": [],
   "source": [
    "import json\n",
    "with open('./result.json', 'w', encoding='utf8') as f:\n",
    "    json.dump(databases[\"test\"], f, ensure_ascii=False)"
   ]
  },
  {
   "cell_type": "code",
   "execution_count": 187,
   "metadata": {},
   "outputs": [],
   "source": [
    "import pandas as pd\n",
    "\n",
    "db = pd.read_json('./result.json')\n",
    "db.properties.to_json('./result.json', orient='records', force_ascii=False)\n",
    "db = pd.read_json('./result.json')"
   ]
  },
  {
   "cell_type": "code",
   "execution_count": 188,
   "metadata": {},
   "outputs": [
    {
     "data": {
      "text/html": [
       "<div>\n",
       "<style scoped>\n",
       "    .dataframe tbody tr th:only-of-type {\n",
       "        vertical-align: middle;\n",
       "    }\n",
       "\n",
       "    .dataframe tbody tr th {\n",
       "        vertical-align: top;\n",
       "    }\n",
       "\n",
       "    .dataframe thead th {\n",
       "        text-align: right;\n",
       "    }\n",
       "</style>\n",
       "<table border=\"1\" class=\"dataframe\">\n",
       "  <thead>\n",
       "    <tr style=\"text-align: right;\">\n",
       "      <th></th>\n",
       "      <th>Status</th>\n",
       "      <th>Formula</th>\n",
       "      <th>Tags</th>\n",
       "      <th>Number</th>\n",
       "      <th>Text</th>\n",
       "      <th>Person</th>\n",
       "      <th>Date</th>\n",
       "      <th>Select</th>\n",
       "      <th>Checkbox</th>\n",
       "      <th>Name</th>\n",
       "    </tr>\n",
       "  </thead>\n",
       "  <tbody>\n",
       "    <tr>\n",
       "      <th>0</th>\n",
       "      <td>{'id': 'EQph', 'type': 'status', 'status': {'i...</td>\n",
       "      <td>{'id': 'Qc%60%3D', 'type': 'formula', 'formula...</td>\n",
       "      <td>{'id': 'WXj%5E', 'type': 'multi_select', 'mult...</td>\n",
       "      <td>{'id': '%5D%3FiM', 'type': 'number', 'number': 1}</td>\n",
       "      <td>{'id': 'iHtT', 'type': 'rich_text', 'rich_text...</td>\n",
       "      <td>{'id': 'lDiI', 'type': 'people', 'people': [{'...</td>\n",
       "      <td>{'id': 'q%7B%60h', 'type': 'date', 'date': {'s...</td>\n",
       "      <td>{'id': 'suTF', 'type': 'select', 'select': {'i...</td>\n",
       "      <td>{'id': 'uThB', 'type': 'checkbox', 'checkbox':...</td>\n",
       "      <td>{'id': 'title', 'type': 'title', 'title': [{'t...</td>\n",
       "    </tr>\n",
       "    <tr>\n",
       "      <th>1</th>\n",
       "      <td>{'id': 'EQph', 'type': 'status', 'status': {'i...</td>\n",
       "      <td>{'id': 'Qc%60%3D', 'type': 'formula', 'formula...</td>\n",
       "      <td>{'id': 'WXj%5E', 'type': 'multi_select', 'mult...</td>\n",
       "      <td>{'id': '%5D%3FiM', 'type': 'number', 'number':...</td>\n",
       "      <td>{'id': 'iHtT', 'type': 'rich_text', 'rich_text...</td>\n",
       "      <td>{'id': 'lDiI', 'type': 'people', 'people': []}</td>\n",
       "      <td>{'id': 'q%7B%60h', 'type': 'date', 'date': None}</td>\n",
       "      <td>{'id': 'suTF', 'type': 'select', 'select': None}</td>\n",
       "      <td>{'id': 'uThB', 'type': 'checkbox', 'checkbox':...</td>\n",
       "      <td>{'id': 'title', 'type': 'title', 'title': []}</td>\n",
       "    </tr>\n",
       "    <tr>\n",
       "      <th>2</th>\n",
       "      <td>{'id': 'EQph', 'type': 'status', 'status': {'i...</td>\n",
       "      <td>{'id': 'Qc%60%3D', 'type': 'formula', 'formula...</td>\n",
       "      <td>{'id': 'WXj%5E', 'type': 'multi_select', 'mult...</td>\n",
       "      <td>{'id': '%5D%3FiM', 'type': 'number', 'number': 2}</td>\n",
       "      <td>{'id': 'iHtT', 'type': 'rich_text', 'rich_text...</td>\n",
       "      <td>{'id': 'lDiI', 'type': 'people', 'people': []}</td>\n",
       "      <td>{'id': 'q%7B%60h', 'type': 'date', 'date': {'s...</td>\n",
       "      <td>{'id': 'suTF', 'type': 'select', 'select': {'i...</td>\n",
       "      <td>{'id': 'uThB', 'type': 'checkbox', 'checkbox':...</td>\n",
       "      <td>{'id': 'title', 'type': 'title', 'title': []}</td>\n",
       "    </tr>\n",
       "  </tbody>\n",
       "</table>\n",
       "</div>"
      ],
      "text/plain": [
       "                                              Status  \\\n",
       "0  {'id': 'EQph', 'type': 'status', 'status': {'i...   \n",
       "1  {'id': 'EQph', 'type': 'status', 'status': {'i...   \n",
       "2  {'id': 'EQph', 'type': 'status', 'status': {'i...   \n",
       "\n",
       "                                             Formula  \\\n",
       "0  {'id': 'Qc%60%3D', 'type': 'formula', 'formula...   \n",
       "1  {'id': 'Qc%60%3D', 'type': 'formula', 'formula...   \n",
       "2  {'id': 'Qc%60%3D', 'type': 'formula', 'formula...   \n",
       "\n",
       "                                                Tags  \\\n",
       "0  {'id': 'WXj%5E', 'type': 'multi_select', 'mult...   \n",
       "1  {'id': 'WXj%5E', 'type': 'multi_select', 'mult...   \n",
       "2  {'id': 'WXj%5E', 'type': 'multi_select', 'mult...   \n",
       "\n",
       "                                              Number  \\\n",
       "0  {'id': '%5D%3FiM', 'type': 'number', 'number': 1}   \n",
       "1  {'id': '%5D%3FiM', 'type': 'number', 'number':...   \n",
       "2  {'id': '%5D%3FiM', 'type': 'number', 'number': 2}   \n",
       "\n",
       "                                                Text  \\\n",
       "0  {'id': 'iHtT', 'type': 'rich_text', 'rich_text...   \n",
       "1  {'id': 'iHtT', 'type': 'rich_text', 'rich_text...   \n",
       "2  {'id': 'iHtT', 'type': 'rich_text', 'rich_text...   \n",
       "\n",
       "                                              Person  \\\n",
       "0  {'id': 'lDiI', 'type': 'people', 'people': [{'...   \n",
       "1     {'id': 'lDiI', 'type': 'people', 'people': []}   \n",
       "2     {'id': 'lDiI', 'type': 'people', 'people': []}   \n",
       "\n",
       "                                                Date  \\\n",
       "0  {'id': 'q%7B%60h', 'type': 'date', 'date': {'s...   \n",
       "1   {'id': 'q%7B%60h', 'type': 'date', 'date': None}   \n",
       "2  {'id': 'q%7B%60h', 'type': 'date', 'date': {'s...   \n",
       "\n",
       "                                              Select  \\\n",
       "0  {'id': 'suTF', 'type': 'select', 'select': {'i...   \n",
       "1   {'id': 'suTF', 'type': 'select', 'select': None}   \n",
       "2  {'id': 'suTF', 'type': 'select', 'select': {'i...   \n",
       "\n",
       "                                            Checkbox  \\\n",
       "0  {'id': 'uThB', 'type': 'checkbox', 'checkbox':...   \n",
       "1  {'id': 'uThB', 'type': 'checkbox', 'checkbox':...   \n",
       "2  {'id': 'uThB', 'type': 'checkbox', 'checkbox':...   \n",
       "\n",
       "                                                Name  \n",
       "0  {'id': 'title', 'type': 'title', 'title': [{'t...  \n",
       "1      {'id': 'title', 'type': 'title', 'title': []}  \n",
       "2      {'id': 'title', 'type': 'title', 'title': []}  "
      ]
     },
     "execution_count": 188,
     "metadata": {},
     "output_type": "execute_result"
    }
   ],
   "source": [
    "db"
   ]
  },
  {
   "cell_type": "code",
   "execution_count": 205,
   "metadata": {},
   "outputs": [
    {
     "data": {
      "text/plain": [
       "[{'object': 'user', 'id': 'ab471901-fb0c-4c01-9ce9-f6d362cc5563'}]"
      ]
     },
     "execution_count": 205,
     "metadata": {},
     "output_type": "execute_result"
    }
   ],
   "source": [
    "db[\"Person\"] # series of dict\n",
    "db[\"Person\"][0] # dict\n",
    "db[\"Person\"][0][\"people\"]"
   ]
  },
  {
   "cell_type": "code",
   "execution_count": 221,
   "metadata": {},
   "outputs": [],
   "source": []
  },
  {
   "cell_type": "code",
   "execution_count": 222,
   "metadata": {},
   "outputs": [
    {
     "data": {
      "text/html": [
       "<div>\n",
       "<style scoped>\n",
       "    .dataframe tbody tr th:only-of-type {\n",
       "        vertical-align: middle;\n",
       "    }\n",
       "\n",
       "    .dataframe tbody tr th {\n",
       "        vertical-align: top;\n",
       "    }\n",
       "\n",
       "    .dataframe thead th {\n",
       "        text-align: right;\n",
       "    }\n",
       "</style>\n",
       "<table border=\"1\" class=\"dataframe\">\n",
       "  <thead>\n",
       "    <tr style=\"text-align: right;\">\n",
       "      <th></th>\n",
       "      <th>Status</th>\n",
       "      <th>Formula</th>\n",
       "      <th>Tags</th>\n",
       "      <th>Number</th>\n",
       "      <th>Text</th>\n",
       "      <th>Person</th>\n",
       "      <th>Date</th>\n",
       "      <th>Select</th>\n",
       "      <th>Checkbox</th>\n",
       "      <th>Name</th>\n",
       "    </tr>\n",
       "  </thead>\n",
       "  <tbody>\n",
       "    <tr>\n",
       "      <th>0</th>\n",
       "      <td>In progress</td>\n",
       "      <td>2</td>\n",
       "      <td>mamad, kokab, naser</td>\n",
       "      <td>1.0</td>\n",
       "      <td>Rich Text</td>\n",
       "      <td>ab471901...</td>\n",
       "      <td>2024-07-15</td>\n",
       "      <td>mamad</td>\n",
       "      <td>False</td>\n",
       "      <td>mamad</td>\n",
       "    </tr>\n",
       "    <tr>\n",
       "      <th>1</th>\n",
       "      <td>Not started</td>\n",
       "      <td>0</td>\n",
       "      <td></td>\n",
       "      <td>NaN</td>\n",
       "      <td></td>\n",
       "      <td></td>\n",
       "      <td></td>\n",
       "      <td></td>\n",
       "      <td>False</td>\n",
       "      <td>Untitled</td>\n",
       "    </tr>\n",
       "    <tr>\n",
       "      <th>2</th>\n",
       "      <td>Done</td>\n",
       "      <td>4</td>\n",
       "      <td></td>\n",
       "      <td>2.0</td>\n",
       "      <td></td>\n",
       "      <td></td>\n",
       "      <td>2024-07-01</td>\n",
       "      <td>naser</td>\n",
       "      <td>True</td>\n",
       "      <td>Untitled</td>\n",
       "    </tr>\n",
       "  </tbody>\n",
       "</table>\n",
       "</div>"
      ],
      "text/plain": [
       "        Status  Formula                 Tags  Number       Text       Person  \\\n",
       "0  In progress        2  mamad, kokab, naser     1.0  Rich Text  ab471901...   \n",
       "1  Not started        0                          NaN                           \n",
       "2         Done        4                          2.0                           \n",
       "\n",
       "         Date Select  Checkbox      Name  \n",
       "0  2024-07-15  mamad     False     mamad  \n",
       "1                        False  Untitled  \n",
       "2  2024-07-01  naser      True  Untitled  "
      ]
     },
     "execution_count": 222,
     "metadata": {},
     "output_type": "execute_result"
    }
   ],
   "source": [
    "NotionTypeHandler.convert_dataframe(db)"
   ]
  },
  {
   "cell_type": "code",
   "execution_count": 58,
   "metadata": {},
   "outputs": [
    {
     "data": {
      "text/plain": [
       "['Upcoming',\n",
       " 'Progress',\n",
       " 'Sustainability',\n",
       " 'Done',\n",
       " 'Tags',\n",
       " 'Record',\n",
       " 'Vocabulary',\n",
       " 'Number of Words',\n",
       " 'Name']"
      ]
     },
     "execution_count": 58,
     "metadata": {},
     "output_type": "execute_result"
    }
   ],
   "source": [
    "extract_columns(databases[\"Projects\"])"
   ]
  },
  {
   "cell_type": "code",
   "execution_count": 59,
   "metadata": {},
   "outputs": [
    {
     "data": {
      "text/plain": [
       "['Created time', 'Tags', 'Number', 'Name']"
      ]
     },
     "execution_count": 59,
     "metadata": {},
     "output_type": "execute_result"
    }
   ],
   "source": [
    "extract_columns(databases[\"Records\"])"
   ]
  },
  {
   "cell_type": "code",
   "execution_count": 74,
   "metadata": {},
   "outputs": [],
   "source": [
    "book_1100_words = notion.databases.query(\n",
    "    **{\n",
    "        \"database_id\": database_id[\"Projects\"],\n",
    "        \"filter\": {\n",
    "            \"property\": \"Name\",\n",
    "            \"title\": {\n",
    "                \"contains\": \"1100\"\n",
    "            }\n",
    "    }\n",
    "})[\"results\"][0][\"properties\"]"
   ]
  },
  {
   "cell_type": "code",
   "execution_count": 75,
   "metadata": {},
   "outputs": [
    {
     "name": "stdout",
     "output_type": "stream",
     "text": [
      "{'Done': {'id': 'Yop%40',\n",
      "          'rollup': {'function': 'checked', 'number': 0, 'type': 'number'},\n",
      "          'type': 'rollup'},\n",
      " 'Name': {'id': 'title',\n",
      "          'title': [{'annotations': {'bold': False,\n",
      "                                     'code': False,\n",
      "                                     'color': 'default',\n",
      "                                     'italic': False,\n",
      "                                     'strikethrough': False,\n",
      "                                     'underline': False},\n",
      "                     'href': None,\n",
      "                     'plain_text': '1100 Words',\n",
      "                     'text': {'content': '1100 Words', 'link': None},\n",
      "                     'type': 'text'}],\n",
      "          'type': 'title'},\n",
      " 'Number of Words': {'id': 'uH%7D%5D', 'number': 1100, 'type': 'number'},\n",
      " 'Progress': {'id': 'Mtr_',\n",
      "              'rollup': {'function': 'checked', 'number': 0, 'type': 'number'},\n",
      "              'type': 'rollup'},\n",
      " 'Record': {'button': {}, 'id': '%5BqHq', 'type': 'button'},\n",
      " 'Sustainability': {'formula': {'number': 0, 'type': 'number'},\n",
      "                    'id': 'W%3A%3Di',\n",
      "                    'type': 'formula'},\n",
      " 'Tags': {'id': 'ZhtY', 'multi_select': [], 'type': 'multi_select'},\n",
      " 'Upcoming': {'id': 'DhP%40',\n",
      "              'rollup': {'function': 'checked', 'number': 0, 'type': 'number'},\n",
      "              'type': 'rollup'},\n",
      " 'Vocabulary': {'has_more': False,\n",
      "                'id': '%60coz',\n",
      "                'relation': [],\n",
      "                'type': 'relation'}}\n"
     ]
    }
   ],
   "source": [
    "pprint(book_1100_words)"
   ]
  },
  {
   "cell_type": "code",
   "execution_count": 73,
   "metadata": {},
   "outputs": [
    {
     "data": {
      "text/plain": [
       "0"
      ]
     },
     "execution_count": 73,
     "metadata": {},
     "output_type": "execute_result"
    }
   ],
   "source": [
    "book_1100_words[\"properties\"][\"Sustainability\"][\"formula\"][\"number\"]"
   ]
  },
  {
   "cell_type": "code",
   "execution_count": 151,
   "metadata": {},
   "outputs": [],
   "source": [
    "def is_list(obj):\n",
    "    return str(type(obj)) == str(type(list()))\n",
    "\n",
    "def is_dict(obj):\n",
    "    return str(type(obj)) == str(type(dict()))"
   ]
  },
  {
   "cell_type": "code",
   "execution_count": 165,
   "metadata": {},
   "outputs": [],
   "source": [
    "def extract_value(obj):\n",
    "    ctype = extract_type(obj)\n",
    "    sub_obj = obj[ctype]\n",
    "    if sub_obj:\n",
    "        if is_list(sub_obj):\n",
    "            inner_obj = sub_obj[0]\n",
    "        elif is_dict(sub_obj):\n",
    "            inner_obj = sub_obj\n",
    "        else:\n",
    "            return sub_obj\n",
    "        dtype = extract_type(inner_obj)\n",
    "        return inner_obj[dtype]\n",
    "    return None"
   ]
  },
  {
   "cell_type": "code",
   "execution_count": 166,
   "metadata": {},
   "outputs": [
    {
     "data": {
      "text/plain": [
       "{'id': '%60coz', 'type': 'relation', 'relation': [], 'has_more': False}"
      ]
     },
     "execution_count": 166,
     "metadata": {},
     "output_type": "execute_result"
    }
   ],
   "source": [
    "book_1100_words[\"Vocabulary\"]\n",
    "# extract_type(book_1100_words[\"Name\"])  # title\n",
    "# str((book_1100_words[\"Name\"][\"title\"])) == str(list())#[0]\n",
    "# extract_type(book_1100_words[\"Name\"][\"title\"][0])"
   ]
  },
  {
   "cell_type": "code",
   "execution_count": 167,
   "metadata": {},
   "outputs": [
    {
     "data": {
      "text/plain": [
       "True"
      ]
     },
     "execution_count": 167,
     "metadata": {},
     "output_type": "execute_result"
    }
   ],
   "source": [
    "str({}) == str(dict())"
   ]
  },
  {
   "cell_type": "code",
   "execution_count": 168,
   "metadata": {},
   "outputs": [
    {
     "name": "stdout",
     "output_type": "stream",
     "text": [
      "{'Done': 0,\n",
      " 'Name': {'content': '1100 Words', 'link': None},\n",
      " 'Number of Words': 1100,\n",
      " 'Progress': 0,\n",
      " 'Record': None,\n",
      " 'Sustainability': 0,\n",
      " 'Tags': None,\n",
      " 'Upcoming': 0,\n",
      " 'Vocabulary': None}\n"
     ]
    }
   ],
   "source": [
    "row = {}\n",
    "for column in extract_columns(databases[\"Projects\"]):\n",
    "    row[column] = extract_value(book_1100_words[column])\n",
    "\n",
    "pprint(row)"
   ]
  },
  {
   "cell_type": "code",
   "execution_count": 180,
   "metadata": {},
   "outputs": [],
   "source": [
    "def construct_row(page, columns): # obj = databases[\"Projects\"]\n",
    "    row = {}\n",
    "    for column in columns:\n",
    "        row[column] = extract_value(page[column])\n",
    "    return row"
   ]
  },
  {
   "cell_type": "code",
   "execution_count": 179,
   "metadata": {},
   "outputs": [
    {
     "data": {
      "text/plain": [
       "{'Upcoming': {'id': 'DhP%40',\n",
       "  'type': 'rollup',\n",
       "  'rollup': {'type': 'number', 'number': None, 'function': 'checked'}},\n",
       " 'Progress': {'id': 'Mtr_',\n",
       "  'type': 'rollup',\n",
       "  'rollup': {'type': 'number', 'number': None, 'function': 'checked'}},\n",
       " 'Sustainability': {'id': 'W%3A%3Di',\n",
       "  'type': 'formula',\n",
       "  'formula': {'type': 'number', 'number': 0}},\n",
       " 'Done': {'id': 'Yop%40',\n",
       "  'type': 'rollup',\n",
       "  'rollup': {'type': 'number', 'number': None, 'function': 'checked'}},\n",
       " 'Tags': {'id': 'ZhtY', 'type': 'multi_select', 'multi_select': []},\n",
       " 'Record': {'id': '%5BqHq', 'type': 'button', 'button': {}},\n",
       " 'Vocabulary': {'id': '%60coz',\n",
       "  'type': 'relation',\n",
       "  'relation': [],\n",
       "  'has_more': False},\n",
       " 'Number of Words': {'id': 'uH%7D%5D', 'type': 'number', 'number': None},\n",
       " 'Name': {'id': 'title', 'type': 'title', 'title': []}}"
      ]
     },
     "execution_count": 179,
     "metadata": {},
     "output_type": "execute_result"
    }
   ],
   "source": [
    "db[0][\"properties\"]"
   ]
  },
  {
   "cell_type": "code",
   "execution_count": 183,
   "metadata": {},
   "outputs": [
    {
     "data": {
      "text/plain": [
       "{'Upcoming': None,\n",
       " 'Progress': None,\n",
       " 'Sustainability': 0,\n",
       " 'Done': None,\n",
       " 'Tags': None,\n",
       " 'Record': None,\n",
       " 'Vocabulary': None,\n",
       " 'Number of Words': None,\n",
       " 'Name': None}"
      ]
     },
     "execution_count": 183,
     "metadata": {},
     "output_type": "execute_result"
    }
   ],
   "source": [
    "construct_row(db[2][\"properties\"], extract_columns(db))"
   ]
  },
  {
   "cell_type": "code",
   "execution_count": 185,
   "metadata": {},
   "outputs": [
    {
     "name": "stdout",
     "output_type": "stream",
     "text": [
      "[{'Done': None,\n",
      "  'Name': None,\n",
      "  'Number of Words': None,\n",
      "  'Progress': None,\n",
      "  'Record': None,\n",
      "  'Sustainability': 0,\n",
      "  'Tags': None,\n",
      "  'Upcoming': None,\n",
      "  'Vocabulary': None},\n",
      " {'Done': 0,\n",
      "  'Name': {'content': '1100 Words', 'link': None},\n",
      "  'Number of Words': 1100,\n",
      "  'Progress': 0,\n",
      "  'Record': None,\n",
      "  'Sustainability': 0,\n",
      "  'Tags': None,\n",
      "  'Upcoming': 0,\n",
      "  'Vocabulary': None},\n",
      " {'Done': None,\n",
      "  'Name': None,\n",
      "  'Number of Words': None,\n",
      "  'Progress': None,\n",
      "  'Record': None,\n",
      "  'Sustainability': 0,\n",
      "  'Tags': None,\n",
      "  'Upcoming': None,\n",
      "  'Vocabulary': None}]\n"
     ]
    }
   ],
   "source": [
    "response = notion.databases.query(database_id=database_id[\"Projects\"])\n",
    "db = response[\"results\"]\n",
    "\n",
    "table = []\n",
    "for page in db:\n",
    "    row = construct_row(page[\"properties\"], extract_columns(db))\n",
    "    table.append(row)\n",
    "pprint(table)"
   ]
  },
  {
   "cell_type": "code",
   "execution_count": 186,
   "metadata": {},
   "outputs": [],
   "source": [
    "import pandas as pd"
   ]
  },
  {
   "cell_type": "code",
   "execution_count": 187,
   "metadata": {},
   "outputs": [
    {
     "data": {
      "text/html": [
       "<div>\n",
       "<style scoped>\n",
       "    .dataframe tbody tr th:only-of-type {\n",
       "        vertical-align: middle;\n",
       "    }\n",
       "\n",
       "    .dataframe tbody tr th {\n",
       "        vertical-align: top;\n",
       "    }\n",
       "\n",
       "    .dataframe thead th {\n",
       "        text-align: right;\n",
       "    }\n",
       "</style>\n",
       "<table border=\"1\" class=\"dataframe\">\n",
       "  <thead>\n",
       "    <tr style=\"text-align: right;\">\n",
       "      <th></th>\n",
       "      <th>Upcoming</th>\n",
       "      <th>Progress</th>\n",
       "      <th>Sustainability</th>\n",
       "      <th>Done</th>\n",
       "      <th>Tags</th>\n",
       "      <th>Record</th>\n",
       "      <th>Vocabulary</th>\n",
       "      <th>Number of Words</th>\n",
       "      <th>Name</th>\n",
       "    </tr>\n",
       "  </thead>\n",
       "  <tbody>\n",
       "    <tr>\n",
       "      <th>0</th>\n",
       "      <td>NaN</td>\n",
       "      <td>NaN</td>\n",
       "      <td>0</td>\n",
       "      <td>NaN</td>\n",
       "      <td>None</td>\n",
       "      <td>None</td>\n",
       "      <td>None</td>\n",
       "      <td>NaN</td>\n",
       "      <td>None</td>\n",
       "    </tr>\n",
       "    <tr>\n",
       "      <th>1</th>\n",
       "      <td>0.0</td>\n",
       "      <td>0.0</td>\n",
       "      <td>0</td>\n",
       "      <td>0.0</td>\n",
       "      <td>None</td>\n",
       "      <td>None</td>\n",
       "      <td>None</td>\n",
       "      <td>1100.0</td>\n",
       "      <td>{'content': '1100 Words', 'link': None}</td>\n",
       "    </tr>\n",
       "    <tr>\n",
       "      <th>2</th>\n",
       "      <td>NaN</td>\n",
       "      <td>NaN</td>\n",
       "      <td>0</td>\n",
       "      <td>NaN</td>\n",
       "      <td>None</td>\n",
       "      <td>None</td>\n",
       "      <td>None</td>\n",
       "      <td>NaN</td>\n",
       "      <td>None</td>\n",
       "    </tr>\n",
       "  </tbody>\n",
       "</table>\n",
       "</div>"
      ],
      "text/plain": [
       "   Upcoming  Progress  Sustainability  Done  Tags Record Vocabulary  \\\n",
       "0       NaN       NaN               0   NaN  None   None       None   \n",
       "1       0.0       0.0               0   0.0  None   None       None   \n",
       "2       NaN       NaN               0   NaN  None   None       None   \n",
       "\n",
       "   Number of Words                                     Name  \n",
       "0              NaN                                     None  \n",
       "1           1100.0  {'content': '1100 Words', 'link': None}  \n",
       "2              NaN                                     None  "
      ]
     },
     "execution_count": 187,
     "metadata": {},
     "output_type": "execute_result"
    }
   ],
   "source": [
    "pd.DataFrame(table)"
   ]
  },
  {
   "cell_type": "code",
   "execution_count": 8,
   "metadata": {},
   "outputs": [],
   "source": [
    "test = notion.databases.retrieve(\"9a18b46bef9e4a18ad52a399021b0734\")\n",
    "# type(test) # dict"
   ]
  },
  {
   "cell_type": "code",
   "execution_count": 12,
   "metadata": {},
   "outputs": [
    {
     "data": {
      "text/plain": [
       "['object',\n",
       " 'id',\n",
       " 'cover',\n",
       " 'icon',\n",
       " 'created_time',\n",
       " 'created_by',\n",
       " 'last_edited_by',\n",
       " 'last_edited_time',\n",
       " 'title',\n",
       " 'description',\n",
       " 'is_inline',\n",
       " 'properties',\n",
       " 'parent',\n",
       " 'url',\n",
       " 'public_url',\n",
       " 'archived',\n",
       " 'in_trash',\n",
       " 'request_id']"
      ]
     },
     "execution_count": 12,
     "metadata": {},
     "output_type": "execute_result"
    }
   ],
   "source": [
    "list(test.keys())"
   ]
  },
  {
   "cell_type": "code",
   "execution_count": 20,
   "metadata": {},
   "outputs": [
    {
     "name": "stdout",
     "output_type": "stream",
     "text": [
      "{'Done': {'id': 'Yop%40',\n",
      "          'name': 'Done',\n",
      "          'rollup': {'function': 'checked',\n",
      "                     'relation_property_id': '`coz',\n",
      "                     'relation_property_name': 'Vocabulary',\n",
      "                     'rollup_property_id': 'ZTfY',\n",
      "                     'rollup_property_name': 'notify (Done)'},\n",
      "          'type': 'rollup'},\n",
      " 'Name': {'id': 'title', 'name': 'Name', 'title': {}, 'type': 'title'},\n",
      " 'Number of Words': {'id': 'uH%7D%5D',\n",
      "                     'name': 'Number of Words',\n",
      "                     'number': {'format': 'number'},\n",
      "                     'type': 'number'},\n",
      " 'Progress': {'id': 'Mtr_',\n",
      "              'name': 'Progress',\n",
      "              'rollup': {'function': 'checked',\n",
      "                         'relation_property_id': '`coz',\n",
      "                         'relation_property_name': 'Vocabulary',\n",
      "                         'rollup_property_id': 'Mfwk',\n",
      "                         'rollup_property_name': 'Review (8)'},\n",
      "              'type': 'rollup'},\n",
      " 'Record': {'button': {}, 'id': '%5BqHq', 'name': 'Record', 'type': 'button'},\n",
      " 'Sustainability': {'formula': {'expression': '{{notion:block_property:Mtr_:00000000-0000-0000-0000-000000000000:69406c94-8a8c-43d3-83c7-b9576a89f267}}/({{notion:block_property:DhP%40:00000000-0000-0000-0000-000000000000:69406c94-8a8c-43d3-83c7-b9576a89f267}}+1)'},\n",
      "                    'id': 'W%3A%3Di',\n",
      "                    'name': 'Sustainability',\n",
      "                    'type': 'formula'},\n",
      " 'Tags': {'id': 'ZhtY',\n",
      "          'multi_select': {'options': []},\n",
      "          'name': 'Tags',\n",
      "          'type': 'multi_select'},\n",
      " 'Upcoming': {'id': 'DhP%40',\n",
      "              'name': 'Upcoming',\n",
      "              'rollup': {'function': 'checked',\n",
      "                         'relation_property_id': '`coz',\n",
      "                         'relation_property_name': 'Vocabulary',\n",
      "                         'rollup_property_id': 's:]F',\n",
      "                         'rollup_property_name': 'Review (3)'},\n",
      "              'type': 'rollup'},\n",
      " 'Vocabulary': {'id': '%60coz',\n",
      "                'name': 'Vocabulary',\n",
      "                'relation': {'database_id': '57cd397e-a560-40cd-83da-5c877000ffb5',\n",
      "                             'dual_property': {'synced_property_id': '%5CDol',\n",
      "                                               'synced_property_name': 'Project'},\n",
      "                             'type': 'dual_property'},\n",
      "                'type': 'relation'}}\n"
     ]
    }
   ],
   "source": [
    "# test[\"title\"]#[0][\"plain_text\"]\n",
    "pprint(test[\"properties\"])"
   ]
  },
  {
   "cell_type": "markdown",
   "metadata": {},
   "source": [
    "# pandas"
   ]
  },
  {
   "cell_type": "code",
   "execution_count": 31,
   "metadata": {},
   "outputs": [],
   "source": [
    "import os\n",
    "from notion_client import Client\n",
    "import pandas as pd \n",
    "import json \n",
    "\n",
    "#definition object notion_pandas\n",
    "class NotionPandas:\n",
    "    def __init__(self, authh, database_idd):  \n",
    "        try:\n",
    "            self.notion =  Client(auth=authh)\n",
    "            self.my_page = self.notion.databases.query(database_id=database_idd)\n",
    "            \n",
    "        except:\n",
    "            print('Please check your auth and database_id')\n",
    "\n",
    "    def change_user(self, auth):\n",
    "            try:\n",
    "                self.notion = Client(auth)\n",
    "            \n",
    "            except:\n",
    "                print('Please check your auth')\n",
    "    \n",
    "    def change_database(self, database_id):\n",
    "        try:\n",
    "            self.my_page = self.notion.databases.query(database_id)\n",
    "        except:\n",
    "            print('Please check your database_id')\n",
    "    \n",
    "    def return_pandas(self, print_json = False):\n",
    "        data = self.my_page['results']\n",
    "        #save my_page to json file\n",
    "        with open('./result.json', 'w', encoding='utf8') as f:\n",
    "            json.dump(data, f, ensure_ascii=False)\n",
    "\n",
    "        # Show page json structure\n",
    "        if print_json:\n",
    "          self.show_json()\n",
    "\n",
    "        df = pd.read_json('./result.json')  \n",
    "\n",
    "        df.properties.to_json('./result.json', orient='records', force_ascii=False)\n",
    "        df = pd.read_json('./result.json')\n",
    "        col = df.columns\n",
    "        \n",
    "        for c in col:\n",
    "            tYpe = dict(df[c][0])['type']\n",
    "            if tYpe == 'checkbox' or tYpe == 'number':\n",
    "                df[c] = df[c].apply(lambda x: dict(x)[tYpe])\n",
    "            \n",
    "            elif tYpe == 'date':\n",
    "                df[c] = df[c].apply(lambda x: dict(dict(x)[tYpe])['start'])\n",
    "            \n",
    "            elif tYpe == 'status':\n",
    "                df[c] = df[c].apply(lambda x: dict(dict(x)[tYpe])['name'])\n",
    "            \n",
    "            elif tYpe == 'title':\n",
    "                df[c] = df[c].apply(lambda x: dict(list(dict(x)[tYpe])[0])['text']['content'])\n",
    "            \n",
    "            elif tYpe == 'multi_select':\n",
    "                col_dict = []\n",
    "                for i in range(len(df[c])):\n",
    "                  multi = df[c][i][tYpe]\n",
    "                  multi_dict = []\n",
    "                  for j in range(len(multi)):\n",
    "                    multi_dict.append(multi[j]['name'])\n",
    "                  col_dict.append(multi_dict)\n",
    "                df[c]=col_dict\n",
    "                df[c] = df[c].agg(', '.join) #remove list square brackets\n",
    "            \n",
    "            elif tYpe == 'rich_text':\n",
    "                col_dict = []\n",
    "                for i in range(len(df[c])):\n",
    "                  multi = df[c][i][tYpe]\n",
    "                  multi_dict = []\n",
    "                  for j in range(len(multi)):\n",
    "                    multi_dict.append(multi[j]['text']['content'])\n",
    "                  col_dict.append(multi_dict)\n",
    "                df[c]=col_dict\n",
    "                df[c] = df[c].agg(', '.join) #remove list square brackets\n",
    "        \n",
    "        #delete ./result.json\n",
    "        os.remove('./result.json')\n",
    "\n",
    "        return df\n",
    "    \n",
    "    def to_csv(self, path):\n",
    "        df = self.return_pandas()\n",
    "        df.to_csv(path, index=False)\n",
    "    \n",
    "    def show_json(self):\n",
    "        with open('./result.json', 'r') as json_file:\n",
    "            json_object = json.load(json_file)\n",
    "        print(json.dumps(json_object, indent=4))\n",
    "                \n",
    "                "
   ]
  },
  {
   "cell_type": "code",
   "execution_count": 32,
   "metadata": {},
   "outputs": [],
   "source": [
    "secret = \"secret_6DlTuXjTyvD0b4Zb2xNHCdnKsQp4JSOD8Fc1D9FMU9F\"\n",
    "database_id = {\n",
    "    \"Projects\": \"9a18b46bef9e4a18ad52a399021b0734\",\n",
    "    \"Records\": \"b138b3e32eb04580a1e8b0ea4f2b817d\",\n",
    "    \"Vocabularies\": \"57cd397ea56040cd83da5c877000ffb5\",\n",
    "}"
   ]
  },
  {
   "cell_type": "code",
   "execution_count": 33,
   "metadata": {},
   "outputs": [],
   "source": [
    "np = NotionPandas(secret, database_id[\"Projects\"])"
   ]
  },
  {
   "cell_type": "code",
   "execution_count": 34,
   "metadata": {},
   "outputs": [
    {
     "name": "stderr",
     "output_type": "stream",
     "text": [
      "/tmp/ipykernel_5608/582255850.py:68: FutureWarning: using <built-in method join of str object at 0x74f24af9b630> in Series.agg cannot aggregate and has been deprecated. Use Series.transform to keep behavior unchanged.\n",
      "  df[c] = df[c].agg(', '.join) #remove list square brackets\n"
     ]
    },
    {
     "ename": "IndexError",
     "evalue": "list index out of range",
     "output_type": "error",
     "traceback": [
      "\u001b[0;31m---------------------------------------------------------------------------\u001b[0m",
      "\u001b[0;31mIndexError\u001b[0m                                Traceback (most recent call last)",
      "Cell \u001b[0;32mIn[34], line 1\u001b[0m\n\u001b[0;32m----> 1\u001b[0m df \u001b[38;5;241m=\u001b[39m \u001b[43mnp\u001b[49m\u001b[38;5;241;43m.\u001b[39;49m\u001b[43mreturn_pandas\u001b[49m\u001b[43m(\u001b[49m\u001b[43m)\u001b[49m\n",
      "Cell \u001b[0;32mIn[31], line 57\u001b[0m, in \u001b[0;36mNotionPandas.return_pandas\u001b[0;34m(self, print_json)\u001b[0m\n\u001b[1;32m     54\u001b[0m     df[c] \u001b[38;5;241m=\u001b[39m df[c]\u001b[38;5;241m.\u001b[39mapply(\u001b[38;5;28;01mlambda\u001b[39;00m x: \u001b[38;5;28mdict\u001b[39m(\u001b[38;5;28mdict\u001b[39m(x)[tYpe])[\u001b[38;5;124m'\u001b[39m\u001b[38;5;124mname\u001b[39m\u001b[38;5;124m'\u001b[39m])\n\u001b[1;32m     56\u001b[0m \u001b[38;5;28;01melif\u001b[39;00m tYpe \u001b[38;5;241m==\u001b[39m \u001b[38;5;124m'\u001b[39m\u001b[38;5;124mtitle\u001b[39m\u001b[38;5;124m'\u001b[39m:\n\u001b[0;32m---> 57\u001b[0m     df[c] \u001b[38;5;241m=\u001b[39m \u001b[43mdf\u001b[49m\u001b[43m[\u001b[49m\u001b[43mc\u001b[49m\u001b[43m]\u001b[49m\u001b[38;5;241;43m.\u001b[39;49m\u001b[43mapply\u001b[49m\u001b[43m(\u001b[49m\u001b[38;5;28;43;01mlambda\u001b[39;49;00m\u001b[43m \u001b[49m\u001b[43mx\u001b[49m\u001b[43m:\u001b[49m\u001b[43m \u001b[49m\u001b[38;5;28;43mdict\u001b[39;49m\u001b[43m(\u001b[49m\u001b[38;5;28;43mlist\u001b[39;49m\u001b[43m(\u001b[49m\u001b[38;5;28;43mdict\u001b[39;49m\u001b[43m(\u001b[49m\u001b[43mx\u001b[49m\u001b[43m)\u001b[49m\u001b[43m[\u001b[49m\u001b[43mtYpe\u001b[49m\u001b[43m]\u001b[49m\u001b[43m)\u001b[49m\u001b[43m[\u001b[49m\u001b[38;5;241;43m0\u001b[39;49m\u001b[43m]\u001b[49m\u001b[43m)\u001b[49m\u001b[43m[\u001b[49m\u001b[38;5;124;43m'\u001b[39;49m\u001b[38;5;124;43mtext\u001b[39;49m\u001b[38;5;124;43m'\u001b[39;49m\u001b[43m]\u001b[49m\u001b[43m[\u001b[49m\u001b[38;5;124;43m'\u001b[39;49m\u001b[38;5;124;43mcontent\u001b[39;49m\u001b[38;5;124;43m'\u001b[39;49m\u001b[43m]\u001b[49m\u001b[43m)\u001b[49m\n\u001b[1;32m     59\u001b[0m \u001b[38;5;28;01melif\u001b[39;00m tYpe \u001b[38;5;241m==\u001b[39m \u001b[38;5;124m'\u001b[39m\u001b[38;5;124mmulti_select\u001b[39m\u001b[38;5;124m'\u001b[39m:\n\u001b[1;32m     60\u001b[0m     col_dict \u001b[38;5;241m=\u001b[39m []\n",
      "File \u001b[0;32m~/Storage/Projects/miniconda3/envs/tmp/lib/python3.10/site-packages/pandas/core/series.py:4764\u001b[0m, in \u001b[0;36mSeries.apply\u001b[0;34m(self, func, convert_dtype, args, by_row, **kwargs)\u001b[0m\n\u001b[1;32m   4629\u001b[0m \u001b[38;5;28;01mdef\u001b[39;00m \u001b[38;5;21mapply\u001b[39m(\n\u001b[1;32m   4630\u001b[0m     \u001b[38;5;28mself\u001b[39m,\n\u001b[1;32m   4631\u001b[0m     func: AggFuncType,\n\u001b[0;32m   (...)\u001b[0m\n\u001b[1;32m   4636\u001b[0m     \u001b[38;5;241m*\u001b[39m\u001b[38;5;241m*\u001b[39mkwargs,\n\u001b[1;32m   4637\u001b[0m ) \u001b[38;5;241m-\u001b[39m\u001b[38;5;241m>\u001b[39m DataFrame \u001b[38;5;241m|\u001b[39m Series:\n\u001b[1;32m   4638\u001b[0m \u001b[38;5;250m    \u001b[39m\u001b[38;5;124;03m\"\"\"\u001b[39;00m\n\u001b[1;32m   4639\u001b[0m \u001b[38;5;124;03m    Invoke function on values of Series.\u001b[39;00m\n\u001b[1;32m   4640\u001b[0m \n\u001b[0;32m   (...)\u001b[0m\n\u001b[1;32m   4755\u001b[0m \u001b[38;5;124;03m    dtype: float64\u001b[39;00m\n\u001b[1;32m   4756\u001b[0m \u001b[38;5;124;03m    \"\"\"\u001b[39;00m\n\u001b[1;32m   4757\u001b[0m     \u001b[38;5;28;01mreturn\u001b[39;00m \u001b[43mSeriesApply\u001b[49m\u001b[43m(\u001b[49m\n\u001b[1;32m   4758\u001b[0m \u001b[43m        \u001b[49m\u001b[38;5;28;43mself\u001b[39;49m\u001b[43m,\u001b[49m\n\u001b[1;32m   4759\u001b[0m \u001b[43m        \u001b[49m\u001b[43mfunc\u001b[49m\u001b[43m,\u001b[49m\n\u001b[1;32m   4760\u001b[0m \u001b[43m        \u001b[49m\u001b[43mconvert_dtype\u001b[49m\u001b[38;5;241;43m=\u001b[39;49m\u001b[43mconvert_dtype\u001b[49m\u001b[43m,\u001b[49m\n\u001b[1;32m   4761\u001b[0m \u001b[43m        \u001b[49m\u001b[43mby_row\u001b[49m\u001b[38;5;241;43m=\u001b[39;49m\u001b[43mby_row\u001b[49m\u001b[43m,\u001b[49m\n\u001b[1;32m   4762\u001b[0m \u001b[43m        \u001b[49m\u001b[43margs\u001b[49m\u001b[38;5;241;43m=\u001b[39;49m\u001b[43margs\u001b[49m\u001b[43m,\u001b[49m\n\u001b[1;32m   4763\u001b[0m \u001b[43m        \u001b[49m\u001b[43mkwargs\u001b[49m\u001b[38;5;241;43m=\u001b[39;49m\u001b[43mkwargs\u001b[49m\u001b[43m,\u001b[49m\n\u001b[0;32m-> 4764\u001b[0m \u001b[43m    \u001b[49m\u001b[43m)\u001b[49m\u001b[38;5;241;43m.\u001b[39;49m\u001b[43mapply\u001b[49m\u001b[43m(\u001b[49m\u001b[43m)\u001b[49m\n",
      "File \u001b[0;32m~/Storage/Projects/miniconda3/envs/tmp/lib/python3.10/site-packages/pandas/core/apply.py:1209\u001b[0m, in \u001b[0;36mSeriesApply.apply\u001b[0;34m(self)\u001b[0m\n\u001b[1;32m   1206\u001b[0m     \u001b[38;5;28;01mreturn\u001b[39;00m \u001b[38;5;28mself\u001b[39m\u001b[38;5;241m.\u001b[39mapply_compat()\n\u001b[1;32m   1208\u001b[0m \u001b[38;5;66;03m# self.func is Callable\u001b[39;00m\n\u001b[0;32m-> 1209\u001b[0m \u001b[38;5;28;01mreturn\u001b[39;00m \u001b[38;5;28;43mself\u001b[39;49m\u001b[38;5;241;43m.\u001b[39;49m\u001b[43mapply_standard\u001b[49m\u001b[43m(\u001b[49m\u001b[43m)\u001b[49m\n",
      "File \u001b[0;32m~/Storage/Projects/miniconda3/envs/tmp/lib/python3.10/site-packages/pandas/core/apply.py:1289\u001b[0m, in \u001b[0;36mSeriesApply.apply_standard\u001b[0;34m(self)\u001b[0m\n\u001b[1;32m   1283\u001b[0m \u001b[38;5;66;03m# row-wise access\u001b[39;00m\n\u001b[1;32m   1284\u001b[0m \u001b[38;5;66;03m# apply doesn't have a `na_action` keyword and for backward compat reasons\u001b[39;00m\n\u001b[1;32m   1285\u001b[0m \u001b[38;5;66;03m# we need to give `na_action=\"ignore\"` for categorical data.\u001b[39;00m\n\u001b[1;32m   1286\u001b[0m \u001b[38;5;66;03m# TODO: remove the `na_action=\"ignore\"` when that default has been changed in\u001b[39;00m\n\u001b[1;32m   1287\u001b[0m \u001b[38;5;66;03m#  Categorical (GH51645).\u001b[39;00m\n\u001b[1;32m   1288\u001b[0m action \u001b[38;5;241m=\u001b[39m \u001b[38;5;124m\"\u001b[39m\u001b[38;5;124mignore\u001b[39m\u001b[38;5;124m\"\u001b[39m \u001b[38;5;28;01mif\u001b[39;00m \u001b[38;5;28misinstance\u001b[39m(obj\u001b[38;5;241m.\u001b[39mdtype, CategoricalDtype) \u001b[38;5;28;01melse\u001b[39;00m \u001b[38;5;28;01mNone\u001b[39;00m\n\u001b[0;32m-> 1289\u001b[0m mapped \u001b[38;5;241m=\u001b[39m \u001b[43mobj\u001b[49m\u001b[38;5;241;43m.\u001b[39;49m\u001b[43m_map_values\u001b[49m\u001b[43m(\u001b[49m\n\u001b[1;32m   1290\u001b[0m \u001b[43m    \u001b[49m\u001b[43mmapper\u001b[49m\u001b[38;5;241;43m=\u001b[39;49m\u001b[43mcurried\u001b[49m\u001b[43m,\u001b[49m\u001b[43m \u001b[49m\u001b[43mna_action\u001b[49m\u001b[38;5;241;43m=\u001b[39;49m\u001b[43maction\u001b[49m\u001b[43m,\u001b[49m\u001b[43m \u001b[49m\u001b[43mconvert\u001b[49m\u001b[38;5;241;43m=\u001b[39;49m\u001b[38;5;28;43mself\u001b[39;49m\u001b[38;5;241;43m.\u001b[39;49m\u001b[43mconvert_dtype\u001b[49m\n\u001b[1;32m   1291\u001b[0m \u001b[43m\u001b[49m\u001b[43m)\u001b[49m\n\u001b[1;32m   1293\u001b[0m \u001b[38;5;28;01mif\u001b[39;00m \u001b[38;5;28mlen\u001b[39m(mapped) \u001b[38;5;129;01mand\u001b[39;00m \u001b[38;5;28misinstance\u001b[39m(mapped[\u001b[38;5;241m0\u001b[39m], ABCSeries):\n\u001b[1;32m   1294\u001b[0m     \u001b[38;5;66;03m# GH#43986 Need to do list(mapped) in order to get treated as nested\u001b[39;00m\n\u001b[1;32m   1295\u001b[0m     \u001b[38;5;66;03m#  See also GH#25959 regarding EA support\u001b[39;00m\n\u001b[1;32m   1296\u001b[0m     \u001b[38;5;28;01mreturn\u001b[39;00m obj\u001b[38;5;241m.\u001b[39m_constructor_expanddim(\u001b[38;5;28mlist\u001b[39m(mapped), index\u001b[38;5;241m=\u001b[39mobj\u001b[38;5;241m.\u001b[39mindex)\n",
      "File \u001b[0;32m~/Storage/Projects/miniconda3/envs/tmp/lib/python3.10/site-packages/pandas/core/base.py:921\u001b[0m, in \u001b[0;36mIndexOpsMixin._map_values\u001b[0;34m(self, mapper, na_action, convert)\u001b[0m\n\u001b[1;32m    918\u001b[0m \u001b[38;5;28;01mif\u001b[39;00m \u001b[38;5;28misinstance\u001b[39m(arr, ExtensionArray):\n\u001b[1;32m    919\u001b[0m     \u001b[38;5;28;01mreturn\u001b[39;00m arr\u001b[38;5;241m.\u001b[39mmap(mapper, na_action\u001b[38;5;241m=\u001b[39mna_action)\n\u001b[0;32m--> 921\u001b[0m \u001b[38;5;28;01mreturn\u001b[39;00m \u001b[43malgorithms\u001b[49m\u001b[38;5;241;43m.\u001b[39;49m\u001b[43mmap_array\u001b[49m\u001b[43m(\u001b[49m\u001b[43marr\u001b[49m\u001b[43m,\u001b[49m\u001b[43m \u001b[49m\u001b[43mmapper\u001b[49m\u001b[43m,\u001b[49m\u001b[43m \u001b[49m\u001b[43mna_action\u001b[49m\u001b[38;5;241;43m=\u001b[39;49m\u001b[43mna_action\u001b[49m\u001b[43m,\u001b[49m\u001b[43m \u001b[49m\u001b[43mconvert\u001b[49m\u001b[38;5;241;43m=\u001b[39;49m\u001b[43mconvert\u001b[49m\u001b[43m)\u001b[49m\n",
      "File \u001b[0;32m~/Storage/Projects/miniconda3/envs/tmp/lib/python3.10/site-packages/pandas/core/algorithms.py:1814\u001b[0m, in \u001b[0;36mmap_array\u001b[0;34m(arr, mapper, na_action, convert)\u001b[0m\n\u001b[1;32m   1812\u001b[0m values \u001b[38;5;241m=\u001b[39m arr\u001b[38;5;241m.\u001b[39mastype(\u001b[38;5;28mobject\u001b[39m, copy\u001b[38;5;241m=\u001b[39m\u001b[38;5;28;01mFalse\u001b[39;00m)\n\u001b[1;32m   1813\u001b[0m \u001b[38;5;28;01mif\u001b[39;00m na_action \u001b[38;5;129;01mis\u001b[39;00m \u001b[38;5;28;01mNone\u001b[39;00m:\n\u001b[0;32m-> 1814\u001b[0m     \u001b[38;5;28;01mreturn\u001b[39;00m \u001b[43mlib\u001b[49m\u001b[38;5;241;43m.\u001b[39;49m\u001b[43mmap_infer\u001b[49m\u001b[43m(\u001b[49m\u001b[43mvalues\u001b[49m\u001b[43m,\u001b[49m\u001b[43m \u001b[49m\u001b[43mmapper\u001b[49m\u001b[43m,\u001b[49m\u001b[43m \u001b[49m\u001b[43mconvert\u001b[49m\u001b[38;5;241;43m=\u001b[39;49m\u001b[43mconvert\u001b[49m\u001b[43m)\u001b[49m\n\u001b[1;32m   1815\u001b[0m \u001b[38;5;28;01melse\u001b[39;00m:\n\u001b[1;32m   1816\u001b[0m     \u001b[38;5;28;01mreturn\u001b[39;00m lib\u001b[38;5;241m.\u001b[39mmap_infer_mask(\n\u001b[1;32m   1817\u001b[0m         values, mapper, mask\u001b[38;5;241m=\u001b[39misna(values)\u001b[38;5;241m.\u001b[39mview(np\u001b[38;5;241m.\u001b[39muint8), convert\u001b[38;5;241m=\u001b[39mconvert\n\u001b[1;32m   1818\u001b[0m     )\n",
      "File \u001b[0;32mlib.pyx:2926\u001b[0m, in \u001b[0;36mpandas._libs.lib.map_infer\u001b[0;34m()\u001b[0m\n",
      "Cell \u001b[0;32mIn[31], line 57\u001b[0m, in \u001b[0;36mNotionPandas.return_pandas.<locals>.<lambda>\u001b[0;34m(x)\u001b[0m\n\u001b[1;32m     54\u001b[0m     df[c] \u001b[38;5;241m=\u001b[39m df[c]\u001b[38;5;241m.\u001b[39mapply(\u001b[38;5;28;01mlambda\u001b[39;00m x: \u001b[38;5;28mdict\u001b[39m(\u001b[38;5;28mdict\u001b[39m(x)[tYpe])[\u001b[38;5;124m'\u001b[39m\u001b[38;5;124mname\u001b[39m\u001b[38;5;124m'\u001b[39m])\n\u001b[1;32m     56\u001b[0m \u001b[38;5;28;01melif\u001b[39;00m tYpe \u001b[38;5;241m==\u001b[39m \u001b[38;5;124m'\u001b[39m\u001b[38;5;124mtitle\u001b[39m\u001b[38;5;124m'\u001b[39m:\n\u001b[0;32m---> 57\u001b[0m     df[c] \u001b[38;5;241m=\u001b[39m df[c]\u001b[38;5;241m.\u001b[39mapply(\u001b[38;5;28;01mlambda\u001b[39;00m x: \u001b[38;5;28mdict\u001b[39m(\u001b[38;5;28;43mlist\u001b[39;49m\u001b[43m(\u001b[49m\u001b[38;5;28;43mdict\u001b[39;49m\u001b[43m(\u001b[49m\u001b[43mx\u001b[49m\u001b[43m)\u001b[49m\u001b[43m[\u001b[49m\u001b[43mtYpe\u001b[49m\u001b[43m]\u001b[49m\u001b[43m)\u001b[49m\u001b[43m[\u001b[49m\u001b[38;5;241;43m0\u001b[39;49m\u001b[43m]\u001b[49m)[\u001b[38;5;124m'\u001b[39m\u001b[38;5;124mtext\u001b[39m\u001b[38;5;124m'\u001b[39m][\u001b[38;5;124m'\u001b[39m\u001b[38;5;124mcontent\u001b[39m\u001b[38;5;124m'\u001b[39m])\n\u001b[1;32m     59\u001b[0m \u001b[38;5;28;01melif\u001b[39;00m tYpe \u001b[38;5;241m==\u001b[39m \u001b[38;5;124m'\u001b[39m\u001b[38;5;124mmulti_select\u001b[39m\u001b[38;5;124m'\u001b[39m:\n\u001b[1;32m     60\u001b[0m     col_dict \u001b[38;5;241m=\u001b[39m []\n",
      "\u001b[0;31mIndexError\u001b[0m: list index out of range"
     ]
    }
   ],
   "source": [
    "df = np.return_pandas()"
   ]
  },
  {
   "cell_type": "code",
   "execution_count": null,
   "metadata": {},
   "outputs": [],
   "source": [
    "with open('./result.json', 'w', encoding='utf8') as f:\n",
    "    json.dump(, f, ensure_ascii=False)"
   ]
  },
  {
   "cell_type": "code",
   "execution_count": 35,
   "metadata": {},
   "outputs": [
    {
     "ename": "NameError",
     "evalue": "name 'db' is not defined",
     "output_type": "error",
     "traceback": [
      "\u001b[0;31m---------------------------------------------------------------------------\u001b[0m",
      "\u001b[0;31mNameError\u001b[0m                                 Traceback (most recent call last)",
      "Cell \u001b[0;32mIn[35], line 1\u001b[0m\n\u001b[0;32m----> 1\u001b[0m \u001b[43mdb\u001b[49m\n",
      "\u001b[0;31mNameError\u001b[0m: name 'db' is not defined"
     ]
    }
   ],
   "source": [
    "db"
   ]
  },
  {
   "cell_type": "code",
   "execution_count": null,
   "metadata": {},
   "outputs": [],
   "source": []
  },
  {
   "cell_type": "code",
   "execution_count": null,
   "metadata": {},
   "outputs": [],
   "source": []
  },
  {
   "cell_type": "code",
   "execution_count": null,
   "metadata": {},
   "outputs": [],
   "source": []
  }
 ],
 "metadata": {
  "kernelspec": {
   "display_name": "tmp",
   "language": "python",
   "name": "python3"
  },
  "language_info": {
   "codemirror_mode": {
    "name": "ipython",
    "version": 3
   },
   "file_extension": ".py",
   "mimetype": "text/x-python",
   "name": "python",
   "nbconvert_exporter": "python",
   "pygments_lexer": "ipython3",
   "version": "3.10.13"
  }
 },
 "nbformat": 4,
 "nbformat_minor": 2
}
